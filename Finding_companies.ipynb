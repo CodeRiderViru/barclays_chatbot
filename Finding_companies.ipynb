{
 "cells": [
  {
   "cell_type": "code",
   "execution_count": 3,
   "metadata": {
    "collapsed": true
   },
   "outputs": [],
   "source": [
    "def return_content_without_nonascii(content):\n",
    "    content = content.lower() #cannot be added as pos tag will need the capital letter words for predicting the tags better\n",
    "    content = content.replace('+', 'plus')\n",
    "    content = content.replace(' ', ' ')\n",
    "    #if the ascii characters has to be removed then we need to pass the boolean as false, the join is between characters, hence without space\n",
    "    # if remove_non_ascii:\n",
    "    #     content = ''.join(i if ord(i)<128 else ' ' for i in content)\n",
    "    content = ''.join(i if ord(i)<128 else ' ' for i in content)\n",
    "    return content"
   ]
  },
  {
   "cell_type": "code",
   "execution_count": 4,
   "metadata": {
    "collapsed": true
   },
   "outputs": [],
   "source": [
    "import fuzzy\n",
    "def return_soundex_representation_of_words_from_list(words_list):\n",
    "    word_fuzzy_list = []\n",
    "    for word in words_list:\n",
    "        word_fuzzy = fuzzy.nysiis(word).encode(\"utf-8\")\n",
    "        word_fuzzy_list.append(word_fuzzy)\n",
    "    return word_fuzzy_list"
   ]
  },
  {
   "cell_type": "code",
   "execution_count": 5,
   "metadata": {
    "collapsed": true
   },
   "outputs": [],
   "source": [
    "import pandas as pd"
   ]
  },
  {
   "cell_type": "code",
   "execution_count": 4,
   "metadata": {
    "collapsed": true
   },
   "outputs": [],
   "source": [
    "import os\n",
    "import re\n",
    "from collections import Counter\n",
    "a=os.listdir(\"cse_subjects/\")\n",
    "subjects=[]\n",
    "for file in a:\n",
    "    f=open(\"cse_subjects/\"+file)\n",
    "    text=f.read()\n",
    "    text=text.lower()\n",
    "    b=[]\n",
    "    count =Counter(text.split())\n",
    "    for key,_ in count.items():\n",
    "        b.append(key)\n",
    "    subjects.append(b)\n"
   ]
  },
  {
   "cell_type": "code",
   "execution_count": null,
   "metadata": {
    "collapsed": true
   },
   "outputs": [],
   "source": []
  },
  {
   "cell_type": "code",
   "execution_count": 5,
   "metadata": {
    "collapsed": true
   },
   "outputs": [],
   "source": [
    "ques_df=pd.read_csv(\"hitbullseye.csv\")"
   ]
  },
  {
   "cell_type": "code",
   "execution_count": 13,
   "metadata": {},
   "outputs": [],
   "source": [
    "companies = [\"Microsoft msft mcrosoft microsft mirsft\" , \"google gogle ggle goog goggle gogle\" ,\"facebook fb fbook faceb fcebook facebk\"\n",
    "          \"amazon amzn amazn amazn azamn amzon\" ,\"intel intol intc intl intal inttl\" ,\"cisco csco csico cssco cissco ciscos\"]"
   ]
  },
  {
   "cell_type": "code",
   "execution_count": 9,
   "metadata": {},
   "outputs": [
    {
     "data": {
      "text/plain": [
       "[b'MACRASAFT', b'MSFT', b'MCRASAFT', b'MACRASFT', b'MARSFT']"
      ]
     },
     "execution_count": 9,
     "metadata": {},
     "output_type": "execute_result"
    }
   ],
   "source": [
    "a=return_soundex_representation_of_words_from_list(company.lower().split())\n",
    "a"
   ]
  },
  {
   "cell_type": "code",
   "execution_count": 15,
   "metadata": {},
   "outputs": [],
   "source": [
    "final=[]\n",
    "for company in companies:\n",
    "    a=return_soundex_representation_of_words_from_list((company.lower().split()))\n",
    "    final.append(a)"
   ]
  },
  {
   "cell_type": "code",
   "execution_count": 16,
   "metadata": {},
   "outputs": [
    {
     "data": {
      "text/plain": [
       "[[b'MACRASAFT', b'MSFT', b'MCRASAFT', b'MACRASFT', b'MARSFT'],\n",
       " [b'GAGL', b'GAGL', b'GL', b'GAG', b'GAGL', b'GAGL'],\n",
       " [b'FACABAC',\n",
       "  b'FB',\n",
       "  b'FBAC',\n",
       "  b'FACAB',\n",
       "  b'FCABAC',\n",
       "  b'FACABCANASAN',\n",
       "  b'ANSN',\n",
       "  b'ANASN',\n",
       "  b'ANASN',\n",
       "  b'ASAN',\n",
       "  b'ANSAN'],\n",
       " [b'INTAL', b'INTAL', b'INTC', b'INTL', b'INTAL', b'INTL'],\n",
       " [b'CASC', b'CSC', b'CSAC', b'CSC', b'CASC', b'CASC']]"
      ]
     },
     "execution_count": 16,
     "metadata": {},
     "output_type": "execute_result"
    }
   ],
   "source": [
    "final\n",
    "        "
   ]
  },
  {
   "cell_type": "code",
   "execution_count": 18,
   "metadata": {},
   "outputs": [
    {
     "data": {
      "text/plain": [
       "[b'SALD', b'', b'BY', b'MACRASAFT', b'STAC']"
      ]
     },
     "execution_count": 18,
     "metadata": {},
     "output_type": "execute_result"
    }
   ],
   "source": [
    "question = \"should i buy microsoft stocks\"\n",
    "question_rp=return_soundex_representation_of_words_from_list(question.lower().split())\n",
    "question_rp"
   ]
  },
  {
   "cell_type": "code",
   "execution_count": 15,
   "metadata": {
    "collapsed": true
   },
   "outputs": [],
   "source": [
    "\n",
    "for company_rp in final:\n",
    "    for rp in company_rp:\n",
    "        if rp in question_rp:\n",
    "            "
   ]
  },
  {
   "cell_type": "code",
   "execution_count": null,
   "metadata": {},
   "outputs": [],
   "source": []
  },
  {
   "cell_type": "code",
   "execution_count": null,
   "metadata": {},
   "outputs": [],
   "source": []
  },
  {
   "cell_type": "code",
   "execution_count": null,
   "metadata": {},
   "outputs": [],
   "source": []
  },
  {
   "cell_type": "code",
   "execution_count": null,
   "metadata": {
    "collapsed": true
   },
   "outputs": [],
   "source": []
  }
 ],
 "metadata": {
  "kernelspec": {
   "display_name": "Python 3",
   "language": "python",
   "name": "python3"
  },
  "language_info": {
   "codemirror_mode": {
    "name": "ipython",
    "version": 3
   },
   "file_extension": ".py",
   "mimetype": "text/x-python",
   "name": "python",
   "nbconvert_exporter": "python",
   "pygments_lexer": "ipython3",
   "version": "3.6.8"
  }
 },
 "nbformat": 4,
 "nbformat_minor": 2
}
